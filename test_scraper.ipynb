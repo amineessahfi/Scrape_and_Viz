{
 "cells": [
  {
   "cell_type": "code",
   "execution_count": 48,
   "metadata": {},
   "outputs": [],
   "source": [
    "import numpy as np\n",
    "import pandas as pd\n",
    "import requests\n",
    "from bs4 import BeautifulSoup"
   ]
  },
  {
   "cell_type": "code",
   "execution_count": 49,
   "metadata": {},
   "outputs": [],
   "source": [
    "baseurl = \"https://www.jumia.ma/\"\n",
    "headers = {'User-Agent': 'Mozilla/5.0 (Windows NT 10.0; Win64; x64) AppleWebKit/537.36 (KHTML, like Gecko) Chrome/89.0.4389.82 Safari/537.36'}"
   ]
  },
  {
   "cell_type": "code",
   "execution_count": 50,
   "metadata": {},
   "outputs": [],
   "source": [
    "productlist=[]\n",
    "\n",
    "i = 1\n",
    "while(True):\n",
    "    url = \"https://www.jumia.ma/ordinateurs-accessoires-informatique/?viewType=list&page={}#catalog-listing\".format(i)\n",
    "    r = requests.get(url).text\n",
    "    soup = BeautifulSoup(r, 'html.parser')\n",
    "    list = soup.find_all(\"article\",{\"class\":\"prd _fl c-prd\"})\n",
    "    productlist.append(list)\n",
    "    i += 1\n",
    "    if soup.find(\"h2\",{\"class\":\"-pvs -fs16 -m\"}):\n",
    "        break"
   ]
  },
  {
   "cell_type": "code",
   "execution_count": 51,
   "metadata": {},
   "outputs": [],
   "source": [
    "Ele=[]\n",
    "i=0\n",
    "while (i < len(productlist)):\n",
    "    elements=productlist[i]\n",
    "    Ele.append(elements)\n",
    "    i+=1\n",
    "    "
   ]
  },
  {
   "cell_type": "code",
   "execution_count": 52,
   "metadata": {},
   "outputs": [],
   "source": [
    "Ele2=[]\n",
    "j=0\n",
    "while j < len(Ele):\n",
    "    sub=Ele[j]\n",
    "    j+=1\n",
    "    k=0\n",
    "    while k <len(sub):\n",
    "        sub_element=sub[k]\n",
    "        Ele2.append(sub_element)\n",
    "        k+=1"
   ]
  },
  {
   "cell_type": "code",
   "execution_count": 53,
   "metadata": {},
   "outputs": [],
   "source": [
    "newdict=[]\n",
    "data=[]\n",
    "for w in range(len(Ele2)):\n",
    "    sub_data=[]\n",
    "    sub_data.append(Ele2[w].find('a').get('data-brand'))\n",
    "    sub_data.append(Ele2[w].find('a').get('data-name'))\n",
    "    sub_data.append(Ele2[w].find('a').get('data-category'))\n",
    "    sub_data.append(Ele2[w].find('a').get('href'))\n",
    "    if Ele2[w].find(\"div\",{\"class\":\"bdg _mall _xs\"}):\n",
    "        sub_data.append(Ele2[w].find(\"div\",{\"class\":\"bdg _mall _xs\"}).text)\n",
    "    if not Ele2[w].find(\"div\",{\"class\":\"bdg _mall _xs\"}):\n",
    "        sub_data.append(\"3rd party\")\n",
    "\n",
    "\n",
    "    if Ele2[w].find(\"div\",{\"class\":\"stars _s\"}):\n",
    "        sub_data.append(Ele2[w].find(\"div\",{\"class\":\"stars _s\"}).text)\n",
    "    if not Ele2[w].find(\"div\",{\"class\":\"stars _s\"}):\n",
    "        sub_data.append(\"No star rating\")\n",
    "\n",
    "\n",
    "    if Ele2[w].find(\"svg\"):\n",
    "        sub_data.append(Ele2[w].find(\"svg\").get('aria-label'))\n",
    "    if not Ele2[w].find(\"svg\"):\n",
    "        sub_data.append(\"Slow Delivery\")\n",
    "\n",
    "\n",
    "    if Ele2[w].find(\"p\",{\"class\":\"shipp\"}):\n",
    "        sub_data.append(Ele2[w].find(\"p\",{\"class\":\"shipp\"}).text)\n",
    "    if not Ele2[w].find(\"p\",{\"class\":\"shipp\"}):\n",
    "        sub_data.append(\"Shipping Charges Apply\")\n",
    "\n",
    "\n",
    "    sub_data.append(Ele2[w].find(\"div\",{\"class\":\"prc\"}).text)\n",
    "\n",
    "\n",
    "    if Ele2[w].find(\"div\",{\"class\":\"old\"}):\n",
    "        sub_data.append(Ele2[w].find(\"div\",{\"class\":\"old\"}).text)\n",
    "    if not Ele2[w].find(\"div\",{\"class\":\"old\"}):\n",
    "        sub_data.append(\"no old price\")\n",
    "\n",
    "\n",
    "    if Ele2[w].find(\"div\",{\"class\":\"bdg _dsct\"}):\n",
    "        sub_data.append(Ele2[w].find(\"div\",{\"class\":\"bdg _dsct\"}).text)\n",
    "    if not Ele2[w].find(\"div\",{\"class\":\"bdg _dsct\"}):\n",
    "        sub_data.append(\"no discount\")\n",
    "    #data.append(Ele2[w].find(\"div\",{\"class\":\"old\"}).text)\n",
    "    #data.append(Ele2[w].find(\"div\",{\"class\":\"bdg _dsct\"}).text)\n",
    "    data.append(sub_data)\n",
    "    \n",
    "    "
   ]
  },
  {
   "cell_type": "code",
   "execution_count": 54,
   "metadata": {},
   "outputs": [],
   "source": [
    "df=pd.DataFrame(data,columns=[\"Brand\",\"Name\",\"Category\",\"Link\",\"Store\",\"Star Rating\",\"Delivery Type\",\"Delivery Charges\",\"Discounted Price\",\"Old Price\",\"Discount\"])"
   ]
  },
  {
   "cell_type": "code",
   "execution_count": 90,
   "metadata": {},
   "outputs": [],
   "source": [
    "df.to_csv('Dataset.csv')"
   ]
  },
  {
   "cell_type": "code",
   "execution_count": 56,
   "metadata": {},
   "outputs": [],
   "source": [
    "df.to_json('Dataset.json')"
   ]
  }
 ],
 "metadata": {
  "kernelspec": {
   "display_name": "Python 3.10.4 64-bit",
   "language": "python",
   "name": "python3"
  },
  "language_info": {
   "codemirror_mode": {
    "name": "ipython",
    "version": 3
   },
   "file_extension": ".py",
   "mimetype": "text/x-python",
   "name": "python",
   "nbconvert_exporter": "python",
   "pygments_lexer": "ipython3",
   "version": "3.10.4"
  },
  "orig_nbformat": 4,
  "vscode": {
   "interpreter": {
    "hash": "b9d300b0fd9e7199a7d55e92924049d075c79965125cc988fc69498f20e16bd9"
   }
  }
 },
 "nbformat": 4,
 "nbformat_minor": 2
}
